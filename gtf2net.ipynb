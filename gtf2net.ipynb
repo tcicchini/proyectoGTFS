{
 "cells": [
  {
   "cell_type": "code",
   "execution_count": 1,
   "id": "ec8af4ce",
   "metadata": {},
   "outputs": [],
   "source": [
    "import pandas as pd\n",
    "import os\n",
    "import graph_tool.all as gt\n",
    "import h3\n",
    "import pyproj\n",
    "geod = pyproj.Geod(ellps=\"WGS84\")"
   ]
  },
  {
   "cell_type": "code",
   "execution_count": 2,
   "id": "1487c0ed",
   "metadata": {},
   "outputs": [],
   "source": [
    "path = 'cdmx-gtfs'\n",
    "# Cargar GTFS\n",
    "stops = pd.read_csv(os.path.join(path, \"stops.txt\"))\n",
    "stop_times = pd.read_csv(os.path.join(path, \"stop_times.txt\"))\n",
    "trips = pd.read_csv(os.path.join(path,\"trips.txt\"))\n",
    "routes = pd.read_csv(os.path.join(path,\"routes.txt\"))"
   ]
  },
  {
   "cell_type": "code",
   "execution_count": 6,
   "id": "5e50e124",
   "metadata": {},
   "outputs": [],
   "source": [
    "if 'cdmx' in path:\n",
    "    trips = trips[trips.route_id.isin(routes[routes.agency_id.isin(['CC','RTP'])].route_id.unique())].copy()\n",
    "    routes = routes[routes.agency_id.isin(['CC','RTP'])].copy()"
   ]
  },
  {
   "cell_type": "code",
   "execution_count": 7,
   "id": "fa998d6b",
   "metadata": {},
   "outputs": [],
   "source": [
    "# 1. Secuencia de stops por trip\n",
    "stop_sequences = stop_times.sort_values(['trip_id', 'stop_sequence']) \\\n",
    "    .groupby('trip_id')['stop_id'].apply(tuple).reset_index()\n",
    "\n",
    "# 2. Añadir info de ruta\n",
    "stop_sequences = stop_sequences.merge(trips.loc[trips.direction_id == 0,['trip_id', 'route_id']], on='trip_id')\n",
    "\n",
    "# 3. Quitar duplicados por (route_id, secuencia)\n",
    "unique_sequences = stop_sequences.drop_duplicates(subset=['route_id', 'stop_id'])\n",
    "\n",
    "# Generar enlaces consecutivos\n",
    "edges = []\n",
    "for trip_id, group in unique_sequences.groupby('trip_id'):\n",
    "    group = group.reset_index(drop=True)\n",
    "    route_id = group.route_id.values[0]\n",
    "    nodes = group.stop_id.values[0]\n",
    "    if len(nodes) > 2:\n",
    "        for i, j in zip(nodes[:-1], nodes[1:]):\n",
    "            edges.append((i, j, route_id, trip_id))\n",
    "\n",
    "edges_df = pd.DataFrame(edges, columns=['nodo_i', 'nodo_j', 'name', 'trip'])\n",
    "\n",
    "# Opcional: asociar nombres de paradas y rutas\n",
    "edges_df = edges_df.merge(stops[['stop_id', 'stop_name']], left_on='nodo_i', right_on='stop_id', how='left') \\\n",
    "                   .rename(columns={'stop_name': 'nombre_i'}) \\\n",
    "                   .drop(columns=['stop_id'])\n",
    "\n",
    "edges_df = edges_df.merge(stops[['stop_id', 'stop_name']], left_on='nodo_j', right_on='stop_id', how='left') \\\n",
    "                   .rename(columns={'stop_name': 'nombre_j'}) \\\n",
    "                   .drop(columns=['stop_id'])\n",
    "\n",
    "edges_df = edges_df.merge(routes[['route_id', 'route_long_name']], left_on='name', right_on='route_id', how='left') \\\n",
    "                   .drop(columns=['route_id'])\n",
    "\n"
   ]
  },
  {
   "cell_type": "code",
   "execution_count": 8,
   "id": "3c584151",
   "metadata": {},
   "outputs": [],
   "source": [
    "res = 10\n",
    "stops.loc[:,'cell'] = stops.apply(lambda x: h3.latlng_to_cell(x.stop_lat, x.stop_lon,res), axis = 1)\n",
    "\n",
    "edges_df.loc[:,'cell_i'] = edges_df.merge(stops[['stop_id','cell']], left_on = 'nodo_i', right_on = 'stop_id').cell\n",
    "edges_df.loc[:,'cell_j'] = edges_df.merge(stops[['stop_id','cell']], left_on = 'nodo_j', right_on = 'stop_id').cell"
   ]
  },
  {
   "cell_type": "code",
   "execution_count": 9,
   "id": "11016c94",
   "metadata": {},
   "outputs": [],
   "source": [
    "nodes2int = pd.Series({n : i for n, i in enumerate(set(edges_df.cell_i).union(set(edges_df.cell_j)))}).reset_index()\n",
    "nodes2int.rename({'index' : 'node_int', 0 : 'node_id'}, axis = 1, inplace=True)\n",
    "\n",
    "\n",
    "edges_df.loc[:,'int_i'] = edges_df.merge(nodes2int, left_on = 'cell_i', right_on = 'node_id').node_int\n",
    "edges_df.loc[:,'int_j'] = edges_df.merge(nodes2int, left_on = 'cell_j', right_on = 'node_id').node_int"
   ]
  },
  {
   "cell_type": "code",
   "execution_count": 10,
   "id": "a09ac698",
   "metadata": {},
   "outputs": [],
   "source": [
    "g = gt.Graph(edges_df[['int_i', 'int_j', 'trip']].values.tolist(), eprops = [('name','object')], directed=False)\n",
    "gt.remove_self_loops(g)"
   ]
  },
  {
   "cell_type": "code",
   "execution_count": 11,
   "id": "263374c1",
   "metadata": {},
   "outputs": [],
   "source": [
    "pos = g.new_vertex_property('vector<double>')\n",
    "ids = g.new_vertex_property('object')\n",
    "for v in g.vertices():\n",
    "    lat, lon = h3.cell_to_latlng(nodes2int.loc[nodes2int.node_int == v].node_id.values[0])\n",
    "    pos[v] = (lon, -lat)\n",
    "    ids[v] = nodes2int.loc[nodes2int.node_int == v].node_id.values[0]\n",
    "g.vp.pos = pos\n",
    "g.vp.ids = ids\n",
    "weight = g.new_edge_property('double')\n",
    "for e in g.edges():\n",
    "    u = e.source()\n",
    "    v = e.target()\n",
    "    _,_, dist = geod.inv(pos[u][0],\n",
    "                         -pos[u][1],\n",
    "                         pos[v][0],\n",
    "                         -pos[v][1]\n",
    "                         )\n",
    "    weight[e] = dist\n",
    "g.ep.weight = weight\n"
   ]
  },
  {
   "cell_type": "code",
   "execution_count": 18,
   "id": "181dc81e",
   "metadata": {},
   "outputs": [
    {
     "data": {
      "text/plain": [
       "trip\n",
       "051162D000_0    94\n",
       "010017K000_0    83\n",
       "013009A000_0    79\n",
       "010024B000_0    78\n",
       "010017H000_0    77\n",
       "                ..\n",
       "054300B000_0     7\n",
       "051SEL1001_0     6\n",
       "051SEL1003_0     5\n",
       "051SEL1002_0     4\n",
       "050300A000_0     2\n",
       "Name: count, Length: 272, dtype: int64"
      ]
     },
     "execution_count": 18,
     "metadata": {},
     "output_type": "execute_result"
    }
   ],
   "source": [
    "edges_df.trip.value_counts()"
   ]
  },
  {
   "cell_type": "code",
   "execution_count": 19,
   "id": "e26ebd49",
   "metadata": {},
   "outputs": [],
   "source": [
    "g.save('redes/redCDMX.gt')"
   ]
  }
 ],
 "metadata": {
  "kernelspec": {
   "display_name": "proyectoMexico",
   "language": "python",
   "name": "python3"
  },
  "language_info": {
   "codemirror_mode": {
    "name": "ipython",
    "version": 3
   },
   "file_extension": ".py",
   "mimetype": "text/x-python",
   "name": "python",
   "nbconvert_exporter": "python",
   "pygments_lexer": "ipython3",
   "version": "3.12.7"
  }
 },
 "nbformat": 4,
 "nbformat_minor": 5
}
